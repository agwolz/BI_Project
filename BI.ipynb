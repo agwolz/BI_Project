{
 "cells": [
  {
   "cell_type": "code",
   "execution_count": 2,
   "metadata": {},
   "outputs": [
    {
     "name": "stdout",
     "output_type": "stream",
     "text": [
      "[1, 1, 1, 1, 1, 1, 1, 1, 3, 1, 1, 1, 1, 1, 1, 1, 1, 2, 1, 1, 1, 1, 1, 1, 3, 1, 1, 1, 3, 1, 1, 1, 1, 1, 1, 3, 1, 1, 1, 1, 1, 1, 1, 4, 1, 1, 1, 1, 2, 1, 2, 1, 1, 1, 4, 2, 2, 2, 1, 2, 1, 1, 1, 1, 1, 1, 1, 1, 3, 1, 1, 1, 1, 1, 2, 1, 1, 1, 1, 1, 2, 7, 2, 1, 1, 1, 1, 3, 1, 1, 1, 1, 1, 1, 1, 2, 1, 1, 1, 1, 2, 1, 1, 1, 1, 1, 1, 1, 1, 2, 1, 1, 1, 1, 2, 1, 1, 1, 1, 1, 1, 1, 1, 1, 1, 1, 1, 1, 1, 2, 1, 1, 1, 1, 1, 1, 3, 1, 1, 2, 1, 1, 1, 1, 2, 1, 2, 1, 1, 1, 1, 1, 1, 1, 2, 2, 2, 1, 1, 1, 1, 1, 1, 1, 2, 1, 2, 1, 1, 1, 2, 1, 1, 4, 2, 2, 2, 1, 1, 1, 1, 1, 1, 5, 1, 1, 1, 2, 1, 1, 1, 1, 1, 1, 1, 1, 1, 1, 1, 1, 1, 1, 1, 1, 1, 1, 1, 1, 2, 2, 1, 1, 1, 1, 1, 1, 1, 1, 1, 1, 1, 1, 1, 1, 1, 1, 1, 1, 1, 1, 1, 1, 1, 1, 1, 1, 1, 1, 1, 1, 1, 1, 1, 1, 1, 1, 1, 1, 1, 2, 1, 1, 1, 1, 1, 2, 1, 2, 1, 1, 1, 1, 2, 1, 1, 1, 1, 1, 2, 1, 1, 2, 2, 1, 1, 2, 1, 1, 1, 1, 1, 1, 1, 1, 1, 1, 1, 1, 1, 1, 2, 1, 1, 1, 1, 1, 1, 7, 1, 2, 1, 3, 1, 1, 1, 1, 1, 1, 1, 1, 1, 1, 1, 1, 1, 2, 1, 1, 1, 1, 1, 1, 1, 1, 1, 1, 2, 1, 1, 1, 1, 1, 1, 1, 1, 1, 1, 4, 1, 1, 1, 3, 1, 1, 2, 1, 1, 1, 1, 1, 1, 1, 1, 1, 1, 1, 1, 1, 1, 1, 1, 1, 1, 1, 1, 1, 1, 1, 1, 1, 1, 1, 1, 1, 1, 2, 1, 1, 1, 1, 1, 1, 3, 1, 2, 1, 1, 1, 2, 1, 1, 2, 1, 2, 1, 3, 1, 1, 5, 1]\n"
     ]
    }
   ],
   "source": [
    "import pandas as pd\n",
    "import os\n",
    "working_dir = './user_logs_copy'\n",
    "\n",
    "users=[]\n",
    "for root, dirs, _ in os.walk(working_dir):\n",
    "    for d in dirs:\n",
    "        if d.startswith('user-'):\n",
    "            users.append(d)\n",
    "users=sorted(users, key=lambda item: int(item.partition('-')[2]))\n",
    "    \n",
    "n_devices=[]\n",
    "user_call_logs=[]\n",
    "user_text_logs=[]\n",
    "user_contact_logs=[]\n",
    "for user in users:\n",
    "    n_devices.append(len(next(os.walk(working_dir+'/'+user))[1]))\n",
    "    \n",
    "    for u, device, files in os.walk(working_dir+'/'+user):\n",
    "        if not u.endswith(user): # solution for device folder \"u\" repetition\n",
    "            for filename in files:\n",
    "                if filename.endswith('call_log.txt'):\n",
    "                    user_call_logs.append(os.path.join(u, filename)) \n",
    "                if filename.endswith('sms_log.txt'):\n",
    "                    user_text_logs.append(os.path.join(u, filename))\n",
    "                if filename.endswith('list.txt'):\n",
    "                    user_contact_logs.append(os.path.join(u, filename))\n",
    "\n",
    "    #user_calls = [pd.read_table(user_call_log) for user_call_log in user_call_logs]\n",
    "    #user_texts = [pd.read_table(user_text_log) for user_text_log in user_text_logs]\n",
    "    #user_contacts = [pd.read_table(user_contact_list) for user_contact_list in user_contact_lists]\n",
    "    \n",
    "user_df = pd.DataFrame({'n_devices':n_devices})\n",
    "#print(user_df)"
   ]
  },
  {
   "cell_type": "code",
   "execution_count": null,
   "metadata": {},
   "outputs": [],
   "source": [
    "df = #users_df + add results and IDs columns + n_devices\n",
    "print(master_df)"
   ]
  }
 ],
 "metadata": {
  "kernelspec": {
   "display_name": "Python 3",
   "language": "python",
   "name": "python3"
  },
  "language_info": {
   "codemirror_mode": {
    "name": "ipython",
    "version": 3
   },
   "file_extension": ".py",
   "mimetype": "text/x-python",
   "name": "python",
   "nbconvert_exporter": "python",
   "pygments_lexer": "ipython3",
   "version": "3.6.5"
  }
 },
 "nbformat": 4,
 "nbformat_minor": 2
}
