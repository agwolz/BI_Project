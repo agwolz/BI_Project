{
 "cells": [
  {
   "cell_type": "code",
   "execution_count": null,
   "metadata": {},
   "outputs": [],
   "source": [
    "import pandas as pd\n",
    "import os\n",
    "working_dir = './user_logs_copy'\n",
    "\n",
    "for root, dirs, files in os.walk(working_dir):\n",
    "    file_list = []\n",
    "    \n",
    "    for filename in files:\n",
    "        if filename.endswith('.txt'):\n",
    "            file_list.append(os.path.join(root, filename))\n",
    "    #print(file_list)\n",
    "    \n",
    "    #df_list = [pd.read_table(file) for file in file_list]\n",
    "    #if df_list:\n",
    "        #final_df = pd.concat(df_list) \n",
    "        #final_df.to_csv(os.path.join(root, \"user.csv\"))"
   ]
  }
 ],
 "metadata": {
  "kernelspec": {
   "display_name": "Python 3",
   "language": "python",
   "name": "python3"
  },
  "language_info": {
   "codemirror_mode": {
    "name": "ipython",
    "version": 3
   },
   "file_extension": ".py",
   "mimetype": "text/x-python",
   "name": "python",
   "nbconvert_exporter": "python",
   "pygments_lexer": "ipython3",
   "version": "3.6.5"
  }
 },
 "nbformat": 4,
 "nbformat_minor": 2
}
