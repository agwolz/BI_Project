{
 "cells": [
  {
   "cell_type": "code",
   "execution_count": 4,
   "metadata": {},
   "outputs": [],
   "source": [
    "%run BI_df.py"
   ]
  },
  {
   "cell_type": "code",
   "execution_count": 7,
   "metadata": {},
   "outputs": [
    {
     "name": "stdout",
     "output_type": "stream",
     "text": [
      "1      LEL91PIUPP Confirmed. Ksh95.00 sent to SportPe...\n",
      "2      LEL31P5P1B Confirmed. On 21/5/17 at 8:27 PM Gi...\n",
      "7      LEL81JFIAK Confirmed. Ksh55.00 sent to SportPe...\n",
      "8      LEL21JEUI0 Confirmed. On 21/5/17 at 2:00 PM Gi...\n",
      "9      LEL01GWRMW Confirmed. Ksh85.00 sent to SportPe...\n",
      "10     Failed. You do not have enough money in your M...\n",
      "11     LEL01GU62A Confirmed. On 21/5/17 at 10:24 AM G...\n",
      "14     LEK61BC7NC confirmed.You bought Ksh10.00 of ai...\n",
      "16     LEK41AB44Y Confirmed. Ksh97.00 sent to SportPe...\n",
      "17     Failed. There is not enough money in your M-PE...\n",
      "18     Failed. You do not have enough money in your M...\n",
      "19     LEK51A1O09 Confirmed. On 20/5/17 at 5:42 PM Gi...\n",
      "21     Failed. There is not enough money in your M-PE...\n",
      "22     Failed. There is not enough money in your M-PE...\n",
      "23     LEJ1ZYZRKZ Confirmed.You have received Ksh10.0...\n",
      "24     LEJ3ZZ93BF Confirmed. Ksh12.00 sent to SportPe...\n",
      "25     LEJ9ZZ6LTX Confirmed. Ksh90.00 sent to SportPe...\n",
      "26     LEJ1ZYZRKZ Confirmed. Ksh10.00 sent to DENIS K...\n",
      "27     LEJ7ZYXJ8X Confirmed.You have received Ksh20.0...\n",
      "28     LEJ7ZYX2AD Confirmed.You have received Ksh100....\n",
      "51     LEF0YEI0I6 Confirmed. Ksh55.00 sent to SportPe...\n",
      "56       Current Data Bundle: 8.4 MB, Expiry 01-01-2037.\n",
      "59     LEF2YCSI28 Confirmed. Ksh95.00 sent to SportPe...\n",
      "61     LEF4YCR5BK Confirmed.You have received Ksh85.0...\n",
      "62     Your online checkout transaction with M-PESA r...\n",
      "63     LEF2YCR51I Confirmed. Ksh10.00 sent to Kopesha...\n",
      "64     Failed. There is not enough money in your M-PE...\n",
      "66     LEF1YCMTLN Confirmed. On 15/5/17 at 9:01 AM Gi...\n",
      "70     LEE6YADAPY Confirmed. Ksh85.00 sent to SportPe...\n",
      "71     LEE6YACO2E Confirmed. On 14/5/17 at 9:15 PM Gi...\n",
      "74     LEE4Y8OR3S Confirmed.You have received Ksh10.0...\n",
      "79     LEE7Y727CP Confirmed. Ksh95.00 sent to SportPe...\n",
      "80     LEE8Y71EWU Confirmed. On 14/5/17 at 5:33 PM Gi...\n",
      "83     LEE0Y3QV10 Confirmed. Ksh95.00 sent to SportPe...\n",
      "84     LEE8Y3OOX0 Confirmed. On 14/5/17 at 1:33 PM Gi...\n",
      "107    LEC5XIOJ1Z Confirmed. Ksh97.00 sent to SportPe...\n",
      "108    LEC1XINQ9H Confirmed. On 12/5/17 at 7:02 PM Gi...\n",
      "112    LEC4XBZF00 Confirmed. Ksh95.00 sent to SportPe...\n",
      "113    LEC5XBUGI7 Confirmed. On 12/5/17 at 10:56 AM G...\n",
      "121    LEB6X7II14 Confirmed. Ksh95.00 sent to SportPe...\n",
      "123    LEB9X6RITB Confirmed.You have received Ksh100....\n",
      "129    LEB4WXMAN4 Confirmed. Ksh10.00 sent to SportPe...\n",
      "130    LEB0WXM5DU Confirmed. Ksh90.00 sent to SportPe...\n",
      "131    LEB5WXLEJ1 Confirmed. On 11/5/17 at 8:09 AM Gi...\n",
      "Name: message_body, dtype: object\n"
     ]
    }
   ],
   "source": [
    "#why is it working here, but not in BI_df.py??\n",
    "texts_df = user_texts[(user_texts.sms_address == 'MPESA') | (user_texts.sms_address == 'Branch-co') | (user_texts.sms_address == 'M-Shwari') | (user_texts.sms_address == 'Safaricom')]\n",
    "print(texts_df['message_body'])"
   ]
  },
  {
   "cell_type": "code",
   "execution_count": null,
   "metadata": {},
   "outputs": [],
   "source": [
    "#distribution for number of times contacted\n",
    "#average number of phones in highest distribution\n",
    "\n",
    "#print(user_contacts)\n",
    "\n",
    "print(user_contacts['phone_numbers'][24])\n",
    "print(len((user_contacts['phone_numbers'][24])))\n",
    "\n",
    "test = [{'item_id': 6612, 'phone_number': '4321106'}, {'item_id': 6612, 'phone_number': '4321106'}]\n",
    "print(len(test))"
   ]
  }
 ],
 "metadata": {
  "kernelspec": {
   "display_name": "Python 3",
   "language": "python",
   "name": "python3"
  },
  "language_info": {
   "codemirror_mode": {
    "name": "ipython",
    "version": 3
   },
   "file_extension": ".py",
   "mimetype": "text/x-python",
   "name": "python",
   "nbconvert_exporter": "python",
   "pygments_lexer": "ipython3",
   "version": "3.6.5"
  }
 },
 "nbformat": 4,
 "nbformat_minor": 2
}
